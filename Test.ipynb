{
 "cells": [
  {
   "cell_type": "code",
   "execution_count": null,
   "metadata": {
    "collapsed": true
   },
   "outputs": [],
   "source": [
    "# Reference: https://towardsdatascience.com/collecting-data-from-the-new-york-times-over-any-period-of-time-3e365504004\n",
    "# https://github.com/brienna/coronavirus-news-analysis/blob/master/2020_05_01_get_data_from_NYT.ipynb\n",
    "\"\"\"\n",
    "Test key\n",
    "To activate conda:\n",
    "source /c/anaconda3/etc/profile.d/conda.sh\n",
    "\n",
    "\n",
    "\"\"\"\n",
    "\n",
    "# TODO: test the code online\n",
    "# TODO: use semantic keys for asianamericans tag\n",
    "# 6 seconds wait for a query\n"
   ]
  }
 ],
 "metadata": {
  "kernelspec": {
   "display_name": "Python 2",
   "language": "python",
   "name": "python2"
  },
  "language_info": {
   "codemirror_mode": {
    "name": "ipython",
    "version": 2
   },
   "file_extension": ".py",
   "mimetype": "text/x-python",
   "name": "python",
   "nbconvert_exporter": "python",
   "pygments_lexer": "ipython2",
   "version": "2.7.6"
  }
 },
 "nbformat": 4,
 "nbformat_minor": 0
}