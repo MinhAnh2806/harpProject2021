{
 "cells": [
  {
   "cell_type": "markdown",
   "source": [
    "## Build New Dataset\n",
    "\n",
    "*Based on the feedbacks from the advisor, this will be my new approach to the dataset*\n",
    "\n",
    "- Pull the data from NYT with the Asian American tags, in sorted order\n",
    "- If the data is older than 01-21-2020, stop because that's the earliest data from the NYT Covid-19 data\n",
    "- Dataset include: headline, date, One-hot encoding for 13 tags, news_desk, word_counts, url\n",
    "- Aggregate by date the dataset\n",
    "\n",
    "#### Set up the key and use a configparser to hide the key details"
   ],
   "metadata": {
    "collapsed": false
   }
  },
  {
   "cell_type": "code",
   "execution_count": 61,
   "outputs": [],
   "source": [
    "# Set up the key\n",
    "import os\n",
    "import configparser\n",
    "# Use a parser for the configuration file\n",
    "import pandas as pd\n",
    "\n",
    "configs = configparser.ConfigParser()\n",
    "# Get the current directory to the main file README.md\n",
    "currentDir = os.path.dirname(\"README.md\")\n",
    "# Get the path file to the config file\n",
    "configDir = os.path.join(currentDir, \"config/settings.cfg\")\n",
    "configs.read(configDir)\n",
    "# Get the key\n",
    "apiKey = configs.get(\"nytimes\", \"api_key\")"
   ],
   "metadata": {
    "collapsed": false,
    "pycharm": {
     "name": "#%%\n"
    }
   }
  },
  {
   "cell_type": "markdown",
   "source": [
    "#### Find total numbers of articles in the topic with the numbers of hits"
   ],
   "metadata": {
    "collapsed": false
   }
  },
  {
   "cell_type": "code",
   "execution_count": 62,
   "outputs": [],
   "source": [
    "import requests\n",
    "subject = \"subject:Asian-Americans\"\n",
    "query = f'https://api.nytimes.com/svc/search/v2/articlesearch.json?fq={subject}&sort=newest&api-key={apiKey}'\n",
    "response = requests.get(query).json()\n",
    "numHits = response['response']['meta']['hits']"
   ],
   "metadata": {
    "collapsed": false,
    "pycharm": {
     "name": "#%%\n"
    }
   }
  },
  {
   "cell_type": "code",
   "execution_count": 63,
   "outputs": [
    {
     "name": "stdout",
     "output_type": "stream",
     "text": [
      "Finish with page 0\n",
      "Finish with page 1\n",
      "Finish with page 2\n",
      "Finish with page 3\n",
      "Finish with page 4\n",
      "Finish with page 5\n",
      "Finish with page 6\n",
      "Finish with page 7\n",
      "Finish with page 8\n",
      "Finish with page 9\n",
      "Finish with page 10\n",
      "Finish with page 11\n",
      "Finish with page 12\n",
      "Finish with page 13\n",
      "Finish with page 14\n",
      "Finish with page 15\n",
      "Finish with page 16\n",
      "Finish with page 17\n",
      "Finish with page 18\n",
      "Finish with page 19\n",
      "Finish with page 20\n",
      "Finished with all pages, total of 209\n"
     ]
    },
    {
     "data": {
      "text/plain": "                                            headline        date  \\\n0  Asians Are Represented in Classical Music. But...  2021-07-21   \n1      A Violinist on How to Empower Asian Musicians  2021-07-21   \n2  A Rising Star’s Career Was Cut Short. His Impa...  2021-07-19   \n3  Fear, and Discord, Among Asian Americans Over ...  2021-07-18   \n4  Boston Overhauls Admissions to Exclusive Exam ...  2021-07-15   \n5  A ‘Rogue Ballerina’ Gives a Candid Account of ...  2021-07-14   \n6        Anti-Asian Attacks Continue as City Reopens  2021-07-14   \n7  ‘No Vaccine for Racism’: Asian New Yorkers Sti...  2021-07-14   \n8  Shohei Ohtani Is Just the Star America’s Pasti...  2021-07-12   \n9  Violinist Apologizes for ‘Culturally Insensiti...  2021-06-28   \n\n      news_desk  word_count  Hate Crimes  Discrimination  Race and Ethnicity  \\\n0  Arts&Leisure      2405.0          0.0             1.0                 1.0   \n1  Arts&Leisure      1161.0          0.0             1.0                 1.0   \n2       Culture      1516.0          0.0             0.0                 0.0   \n3      National      1387.0          1.0             1.0                 0.0   \n4      National      1480.0          0.0             0.0                 1.0   \n5  Arts&Leisure      1742.0          0.0             0.0                 1.0   \n6         Metro      1114.0          1.0             0.0                 0.0   \n7         Metro      1348.0          1.0             1.0                 0.0   \n8        Sports      1032.0          0.0             1.0                 0.0   \n9       Culture       577.0          0.0             1.0                 0.0   \n\n   Atlanta Spa Shootings (2021)  Murders, Attempted Murders and Homicides  \\\n0                           0.0                                       0.0   \n1                           0.0                                       0.0   \n2                           0.0                                       0.0   \n3                           0.0                                       0.0   \n4                           0.0                                       0.0   \n5                           0.0                                       0.0   \n6                           0.0                                       0.0   \n7                           0.0                                       0.0   \n8                           0.0                                       0.0   \n9                           0.0                                       0.0   \n\n   Demonstrations, Protests and Riots  Mass Shootings  \\\n0                                 0.0             0.0   \n1                                 0.0             0.0   \n2                                 0.0             0.0   \n3                                 0.0             0.0   \n4                                 0.0             0.0   \n5                                 0.0             0.0   \n6                                 0.0             0.0   \n7                                 0.0             0.0   \n8                                 0.0             0.0   \n9                                 0.0             0.0   \n\n   Quarantine (Life and Culture)  Assaults  Minorities  \\\n0                            0.0       0.0         0.0   \n1                            0.0       0.0         0.0   \n2                            0.0       0.0         0.0   \n3                            0.0       1.0         0.0   \n4                            0.0       0.0         0.0   \n5                            0.0       0.0         0.0   \n6                            0.0       0.0         0.0   \n7                            0.0       1.0         0.0   \n8                            0.0       0.0         0.0   \n9                            0.0       0.0         0.0   \n\n   Workplace Hazards and Violations  Coronavirus (2019-nCoV)  \\\n0                               0.0                      0.0   \n1                               0.0                      0.0   \n2                               0.0                      0.0   \n3                               0.0                      0.0   \n4                               0.0                      0.0   \n5                               0.0                      0.0   \n6                               0.0                      1.0   \n7                               0.0                      0.0   \n8                               0.0                      0.0   \n9                               0.0                      0.0   \n\n                                                 url  \n0  https://www.nytimes.com/2021/07/21/arts/music/...  \n1  https://www.nytimes.com/2021/07/21/arts/music/...  \n2  https://www.nytimes.com/2021/07/19/books/antho...  \n3  https://www.nytimes.com/2021/07/18/us/asian-at...  \n4  https://www.nytimes.com/2021/07/15/us/boston-s...  \n5  https://www.nytimes.com/2021/07/14/arts/dance/...  \n6  https://www.nytimes.com/2021/07/14/nyregion/at...  \n7  https://www.nytimes.com/2021/07/14/nyregion/as...  \n8  https://www.nytimes.com/2021/07/12/sports/base...  \n9  https://www.nytimes.com/2021/06/28/arts/music/...  ",
      "text/html": "<div>\n<style scoped>\n    .dataframe tbody tr th:only-of-type {\n        vertical-align: middle;\n    }\n\n    .dataframe tbody tr th {\n        vertical-align: top;\n    }\n\n    .dataframe thead th {\n        text-align: right;\n    }\n</style>\n<table border=\"1\" class=\"dataframe\">\n  <thead>\n    <tr style=\"text-align: right;\">\n      <th></th>\n      <th>headline</th>\n      <th>date</th>\n      <th>news_desk</th>\n      <th>word_count</th>\n      <th>Hate Crimes</th>\n      <th>Discrimination</th>\n      <th>Race and Ethnicity</th>\n      <th>Atlanta Spa Shootings (2021)</th>\n      <th>Murders, Attempted Murders and Homicides</th>\n      <th>Demonstrations, Protests and Riots</th>\n      <th>Mass Shootings</th>\n      <th>Quarantine (Life and Culture)</th>\n      <th>Assaults</th>\n      <th>Minorities</th>\n      <th>Workplace Hazards and Violations</th>\n      <th>Coronavirus (2019-nCoV)</th>\n      <th>url</th>\n    </tr>\n  </thead>\n  <tbody>\n    <tr>\n      <th>0</th>\n      <td>Asians Are Represented in Classical Music. But...</td>\n      <td>2021-07-21</td>\n      <td>Arts&amp;Leisure</td>\n      <td>2405.0</td>\n      <td>0.0</td>\n      <td>1.0</td>\n      <td>1.0</td>\n      <td>0.0</td>\n      <td>0.0</td>\n      <td>0.0</td>\n      <td>0.0</td>\n      <td>0.0</td>\n      <td>0.0</td>\n      <td>0.0</td>\n      <td>0.0</td>\n      <td>0.0</td>\n      <td>https://www.nytimes.com/2021/07/21/arts/music/...</td>\n    </tr>\n    <tr>\n      <th>1</th>\n      <td>A Violinist on How to Empower Asian Musicians</td>\n      <td>2021-07-21</td>\n      <td>Arts&amp;Leisure</td>\n      <td>1161.0</td>\n      <td>0.0</td>\n      <td>1.0</td>\n      <td>1.0</td>\n      <td>0.0</td>\n      <td>0.0</td>\n      <td>0.0</td>\n      <td>0.0</td>\n      <td>0.0</td>\n      <td>0.0</td>\n      <td>0.0</td>\n      <td>0.0</td>\n      <td>0.0</td>\n      <td>https://www.nytimes.com/2021/07/21/arts/music/...</td>\n    </tr>\n    <tr>\n      <th>2</th>\n      <td>A Rising Star’s Career Was Cut Short. His Impa...</td>\n      <td>2021-07-19</td>\n      <td>Culture</td>\n      <td>1516.0</td>\n      <td>0.0</td>\n      <td>0.0</td>\n      <td>0.0</td>\n      <td>0.0</td>\n      <td>0.0</td>\n      <td>0.0</td>\n      <td>0.0</td>\n      <td>0.0</td>\n      <td>0.0</td>\n      <td>0.0</td>\n      <td>0.0</td>\n      <td>0.0</td>\n      <td>https://www.nytimes.com/2021/07/19/books/antho...</td>\n    </tr>\n    <tr>\n      <th>3</th>\n      <td>Fear, and Discord, Among Asian Americans Over ...</td>\n      <td>2021-07-18</td>\n      <td>National</td>\n      <td>1387.0</td>\n      <td>1.0</td>\n      <td>1.0</td>\n      <td>0.0</td>\n      <td>0.0</td>\n      <td>0.0</td>\n      <td>0.0</td>\n      <td>0.0</td>\n      <td>0.0</td>\n      <td>1.0</td>\n      <td>0.0</td>\n      <td>0.0</td>\n      <td>0.0</td>\n      <td>https://www.nytimes.com/2021/07/18/us/asian-at...</td>\n    </tr>\n    <tr>\n      <th>4</th>\n      <td>Boston Overhauls Admissions to Exclusive Exam ...</td>\n      <td>2021-07-15</td>\n      <td>National</td>\n      <td>1480.0</td>\n      <td>0.0</td>\n      <td>0.0</td>\n      <td>1.0</td>\n      <td>0.0</td>\n      <td>0.0</td>\n      <td>0.0</td>\n      <td>0.0</td>\n      <td>0.0</td>\n      <td>0.0</td>\n      <td>0.0</td>\n      <td>0.0</td>\n      <td>0.0</td>\n      <td>https://www.nytimes.com/2021/07/15/us/boston-s...</td>\n    </tr>\n    <tr>\n      <th>5</th>\n      <td>A ‘Rogue Ballerina’ Gives a Candid Account of ...</td>\n      <td>2021-07-14</td>\n      <td>Arts&amp;Leisure</td>\n      <td>1742.0</td>\n      <td>0.0</td>\n      <td>0.0</td>\n      <td>1.0</td>\n      <td>0.0</td>\n      <td>0.0</td>\n      <td>0.0</td>\n      <td>0.0</td>\n      <td>0.0</td>\n      <td>0.0</td>\n      <td>0.0</td>\n      <td>0.0</td>\n      <td>0.0</td>\n      <td>https://www.nytimes.com/2021/07/14/arts/dance/...</td>\n    </tr>\n    <tr>\n      <th>6</th>\n      <td>Anti-Asian Attacks Continue as City Reopens</td>\n      <td>2021-07-14</td>\n      <td>Metro</td>\n      <td>1114.0</td>\n      <td>1.0</td>\n      <td>0.0</td>\n      <td>0.0</td>\n      <td>0.0</td>\n      <td>0.0</td>\n      <td>0.0</td>\n      <td>0.0</td>\n      <td>0.0</td>\n      <td>0.0</td>\n      <td>0.0</td>\n      <td>0.0</td>\n      <td>1.0</td>\n      <td>https://www.nytimes.com/2021/07/14/nyregion/at...</td>\n    </tr>\n    <tr>\n      <th>7</th>\n      <td>‘No Vaccine for Racism’: Asian New Yorkers Sti...</td>\n      <td>2021-07-14</td>\n      <td>Metro</td>\n      <td>1348.0</td>\n      <td>1.0</td>\n      <td>1.0</td>\n      <td>0.0</td>\n      <td>0.0</td>\n      <td>0.0</td>\n      <td>0.0</td>\n      <td>0.0</td>\n      <td>0.0</td>\n      <td>1.0</td>\n      <td>0.0</td>\n      <td>0.0</td>\n      <td>0.0</td>\n      <td>https://www.nytimes.com/2021/07/14/nyregion/as...</td>\n    </tr>\n    <tr>\n      <th>8</th>\n      <td>Shohei Ohtani Is Just the Star America’s Pasti...</td>\n      <td>2021-07-12</td>\n      <td>Sports</td>\n      <td>1032.0</td>\n      <td>0.0</td>\n      <td>1.0</td>\n      <td>0.0</td>\n      <td>0.0</td>\n      <td>0.0</td>\n      <td>0.0</td>\n      <td>0.0</td>\n      <td>0.0</td>\n      <td>0.0</td>\n      <td>0.0</td>\n      <td>0.0</td>\n      <td>0.0</td>\n      <td>https://www.nytimes.com/2021/07/12/sports/base...</td>\n    </tr>\n    <tr>\n      <th>9</th>\n      <td>Violinist Apologizes for ‘Culturally Insensiti...</td>\n      <td>2021-06-28</td>\n      <td>Culture</td>\n      <td>577.0</td>\n      <td>0.0</td>\n      <td>1.0</td>\n      <td>0.0</td>\n      <td>0.0</td>\n      <td>0.0</td>\n      <td>0.0</td>\n      <td>0.0</td>\n      <td>0.0</td>\n      <td>0.0</td>\n      <td>0.0</td>\n      <td>0.0</td>\n      <td>0.0</td>\n      <td>https://www.nytimes.com/2021/06/28/arts/music/...</td>\n    </tr>\n  </tbody>\n</table>\n</div>"
     },
     "execution_count": 63,
     "metadata": {},
     "output_type": "execute_result"
    }
   ],
   "source": [
    "# Method to set up and parse the\n",
    "import time\n",
    "import dateutil\n",
    "import pandas as pd\n",
    "from datetime import datetime\n",
    "day = datetime(2020, 1, 21).date()\n",
    "numPerPages = 10\n",
    "def isNotValid(article) -> bool:\n",
    "    \"\"\"\n",
    "    Method to check if the article has a valid headline\n",
    "\n",
    "    :param article: The information of the article\n",
    "    :return: True if not valid, False if valid\n",
    "    \"\"\"\n",
    "    if type(article['headline']) == dict and 'main' in article['headline'] and article['headline']['main'] is not None:\n",
    "        return False\n",
    "    return True\n",
    "\n",
    "def getDataSorted() -> pd.DataFrame:\n",
    "    \"\"\"\n",
    "    Main method to send request and parse response with the subject\n",
    "\n",
    "    :return: Dataset with all the articles parsed as panda dataframe\n",
    "    \"\"\"\n",
    "    # Result dataset\n",
    "    dataset = {'headline': [],\n",
    "        'date': [],\n",
    "        'news_desk': [],\n",
    "        'word_count': [],\n",
    "        'Hate Crimes': [],\n",
    "        'Discrimination': [],\n",
    "        'Race and Ethnicity': [],\n",
    "        'Atlanta Spa Shootings (2021)': [],\n",
    "        'Murders, Attempted Murders and Homicides': [],\n",
    "        'Demonstrations, Protests and Riots': [],\n",
    "        'Mass Shootings': [],\n",
    "        'Quarantine (Life and Culture)': [],\n",
    "        'Assaults': [],\n",
    "        'Minorities': [],\n",
    "        'Workplace Hazards and Violations': [],\n",
    "        'Coronavirus (2019-nCoV)': [],\n",
    "        'url': []}\n",
    "\n",
    "    breakCondition = False\n",
    "    dataset = pd.DataFrame(dataset)\n",
    "    # Count number of articles\n",
    "    total = 0\n",
    "    # Loop through the page\n",
    "    for page in range(numHits // numPerPages + 1):\n",
    "        # Send request to the page gradually\n",
    "        q = f'https://api.nytimes.com/svc/search/v2/articlesearch.json?fq={subject}&page={page}&sort=newest&api-key={apiKey}'\n",
    "        r = requests.get(q).json()\n",
    "        # Based on preliminary parsing, get the list of article from the file\n",
    "        articleList = r['response']['docs']\n",
    "        # Return dataframe\n",
    "        frame = getRequestUpdate(articleList, breakCondition)\n",
    "        # Return\n",
    "        if len(frame) == 0:\n",
    "            break\n",
    "        # Add to dataset\n",
    "        dataset = dataset.append(frame, ignore_index=True)\n",
    "        # Count pages\n",
    "        total += len(frame)\n",
    "        # Sleep before new request\n",
    "        time.sleep(6)\n",
    "        # Print message to know finish with the page\n",
    "        print(\"Finish with page\", page)\n",
    "    # Print when done with the numbers of total articles\n",
    "    print(f'Finished with all pages, total of {str(total)}')\n",
    "    # Create csv file\n",
    "    csv_path = \"Updated Asians American NYT Dataset.csv\"\n",
    "    dataset.to_csv(csv_path, index=False)\n",
    "    return dataset\n",
    "\n",
    "tags = {'Hate Crimes',\n",
    "        'Discrimination',\n",
    "        'Race and Ethnicity',\n",
    "        'Atlanta Spa Shootings (2021)',\n",
    "        'Murders, Attempted Murders and Homicides',\n",
    "        'Demonstrations, Protests and Riots',\n",
    "        'Mass Shootings',\n",
    "        'Quarantine (Life and Culture)',\n",
    "        'Assaults',\n",
    "        'Minorities',\n",
    "        'Workplace Hazards and Violations',\n",
    "        'Coronavirus (2019-nCoV)'}\n",
    "\n",
    "def keywordCheck(frame, keywords, num):\n",
    "    \"\"\"\n",
    "    Method to do one-hot encoding for the keywords\n",
    "\n",
    "    :param num: The article number on the list\n",
    "    :param frame: the current dataframe\n",
    "    :param keywords: the list of keywords\n",
    "    :return: None\n",
    "    \"\"\"\n",
    "    for keyword in keywords:\n",
    "        if keyword['name'] != 'subject':\n",
    "            continue\n",
    "        # All the keywords are subject\n",
    "        if keyword['value'] == 'Assaults':\n",
    "            frame['Assaults'].append(1)\n",
    "        # minorities\n",
    "        elif keyword['value'] == 'Minorities':\n",
    "            frame['Minorities'].append(1)\n",
    "        # hazards\n",
    "        elif keyword['value'] == 'Workplace Hazards and Violations':\n",
    "            frame['Workplace Hazards and Violations'].append(1)\n",
    "        # covid 19\n",
    "        elif keyword['value'] == 'Coronavirus (2019-nCoV)':\n",
    "            frame['Coronavirus (2019-nCoV)'].append(1)\n",
    "        # shootings\n",
    "        elif keyword['value'] =='Mass Shootings' :\n",
    "            frame['Mass Shootings'].append(1)\n",
    "        # quarantine\n",
    "        elif keyword['value'] == 'Quarantine (Life and Culture)' :\n",
    "            frame['Quarantine (Life and Culture)'].append(1)\n",
    "        # Discrimination\n",
    "        elif keyword['value'] == 'Discrimination':\n",
    "            frame['Discrimination'].append(1)\n",
    "        # Protest and riot\n",
    "        elif keyword['value'] == 'Demonstrations, Protests and Riots':\n",
    "            frame['Demonstrations, Protests and Riots'].append(1)\n",
    "        # Murders, homicides\n",
    "        elif keyword['value'] == 'Murders, Attempted Murders and Homicides':\n",
    "            frame['Murders, Attempted Murders and Homicides'].append(1)\n",
    "        # Race and ethnicity\n",
    "        elif keyword['value'] == 'Race and Ethnicity':\n",
    "            frame['Race and Ethnicity'].append(1)\n",
    "        # Atlanta\n",
    "        elif keyword['value'] == 'Atlanta Spa Shootings (2021)':\n",
    "            frame['Atlanta Spa Shootings (2021)'].append(1)\n",
    "        # Discrimination\n",
    "        elif keyword['value'] == 'Hate Crimes':\n",
    "            frame['Hate Crimes'].append(1)\n",
    "\n",
    "    for tag in tags:\n",
    "        # print(frame[tag])\n",
    "        while len(frame[tag]) < num + 1:\n",
    "            frame[tag].append(0)\n",
    "\n",
    "\n",
    "def getRequestUpdate(articleList, breakCondition) -> pd.DataFrame:\n",
    "    \"\"\"\n",
    "    Method to parse article and return as a data frame\n",
    "\n",
    "    :param breakCondition:\n",
    "    :param articleList: list of article from response['response']['docs']\n",
    "    :return: dataframe of the article after parsing\n",
    "    \"\"\"\n",
    "    frame = {'headline': [],\n",
    "        'date': [],\n",
    "        'news_desk': [],\n",
    "        'word_count': [],\n",
    "        'Hate Crimes': [],\n",
    "        'Discrimination': [],\n",
    "        'Race and Ethnicity': [],\n",
    "        'Atlanta Spa Shootings (2021)': [],\n",
    "        'Murders, Attempted Murders and Homicides': [],\n",
    "        'Demonstrations, Protests and Riots': [],\n",
    "        'Mass Shootings': [],\n",
    "        'Quarantine (Life and Culture)': [],\n",
    "        'Assaults': [],\n",
    "        'Minorities': [],\n",
    "        'Workplace Hazards and Violations': [],\n",
    "        'Coronavirus (2019-nCoV)': [],\n",
    "        'url': []}\n",
    "    for idx, article in enumerate(articleList):\n",
    "        # Check if article is valid\n",
    "        if isNotValid(article):\n",
    "            continue\n",
    "        # Date parse\n",
    "        date = dateutil.parser.parse(article['pub_date']).date()\n",
    "        # Return when the date is larger\n",
    "        if date < day:\n",
    "            break\n",
    "        frame['date'].append(str(date))\n",
    "        # Headline parse\n",
    "        frame['headline'].append(article['headline']['main'])\n",
    "        # Link URL parse\n",
    "        frame['url'].append(article['web_url'])\n",
    "\n",
    "        # News Desk parse\n",
    "        if 'news_desk' in article:\n",
    "            frame['news_desk'].append(article['news_desk'])\n",
    "        else:\n",
    "            frame['news_desk'].append(article[None])\n",
    "        # Word count parse\n",
    "        if 'word_count' in article:\n",
    "            frame['word_count'].append(article['word_count'])\n",
    "        else:\n",
    "            frame['word_count'].append(article[None])\n",
    "\n",
    "        keywordCheck(frame, article['keywords'], idx)\n",
    "\n",
    "    return pd.DataFrame(frame)\n",
    "\n",
    "updatedData = getDataSorted()\n",
    "updatedData.head(10)"
   ],
   "metadata": {
    "collapsed": false,
    "pycharm": {
     "name": "#%%\n"
    }
   }
  },
  {
   "cell_type": "markdown",
   "source": [
    "neighborhood app like facebook for neighbor, coming from new grad, a great start, not startup, not big company,have a say in the project\n",
    "helpful people and care about what they work for, know where things are, talk\n",
    "\n",
    "### Overview of The New Dataset\n",
    "\n",
    "- Get the sum of the tag in this period starting from Jan, 21st, 2020 to Jul, 21st, 2021"
   ],
   "metadata": {
    "collapsed": false
   }
  },
  {
   "cell_type": "code",
   "execution_count": 64,
   "outputs": [
    {
     "data": {
      "text/plain": "date                                        2021-07-212021-07-212021-07-192021-07-182021-0...\nword_count                                                                           221165.0\nHate Crimes                                                                              67.0\nDiscrimination                                                                          107.0\nRace and Ethnicity                                                                       75.0\nAtlanta Spa Shootings (2021)                                                             42.0\nMurders, Attempted Murders and Homicides                                                 22.0\nDemonstrations, Protests and Riots                                                        5.0\nMass Shootings                                                                            3.0\nQuarantine (Life and Culture)                                                             7.0\nAssaults                                                                                 23.0\nMinorities                                                                                8.0\nWorkplace Hazards and Violations                                                          3.0\nCoronavirus (2019-nCoV)                                                                  38.0\ndtype: object"
     },
     "execution_count": 64,
     "metadata": {},
     "output_type": "execute_result"
    }
   ],
   "source": [
    "updatedData.drop([\"headline\", \"news_desk\", \"url\"], axis=1).agg(\"sum\", axis=0)"
   ],
   "metadata": {
    "collapsed": false,
    "pycharm": {
     "name": "#%%\n"
    }
   }
  },
  {
   "cell_type": "markdown",
   "source": [
    "- Count value in the news_desk to see the categories that has the most values"
   ],
   "metadata": {
    "collapsed": false
   }
  },
  {
   "cell_type": "code",
   "execution_count": 65,
   "outputs": [
    {
     "data": {
      "text/plain": "news_desk     \nNational          31\nOpEd              23\nCulture           22\nMetro             22\nExpress           14\nWashington        10\n                  10\nArts&Leisure       9\nPolitics           6\nSports             6\nLetters            5\nBusiness           5\nStyles             4\nPodcasts           4\nSundayBusiness     4\nU.S.               3\nWell               3\nMetropolitan       3\nMagazine           3\nWeekend            2\nObits              2\nInvestigative      2\nDining             2\nEditorial          2\nTStyle             1\nT Magazine         1\nSummary            1\nClimate            1\nScience            1\nParenting          1\nBusiness Day       1\nAtHome             1\nArts               1\nNYTNow             1\nBookReview         1\nOpinion            1\ndtype: int64"
     },
     "execution_count": 65,
     "metadata": {},
     "output_type": "execute_result"
    }
   ],
   "source": [
    "updatedData.loc[::, [\"news_desk\"]].value_counts()\n",
    "\n",
    "# Based on the count, we can see around 10 articles are not in any news_desk. Note that one article is only tagged with one news_desk\n",
    "# National and U.S. news desk - What's the difference?"
   ],
   "metadata": {
    "collapsed": false,
    "pycharm": {
     "name": "#%%\n"
    }
   }
  },
  {
   "cell_type": "markdown",
   "source": [
    "- Average and max word counts for the articles\n",
    "- Divide the articles by tag?"
   ],
   "metadata": {
    "collapsed": false
   }
  },
  {
   "cell_type": "code",
   "execution_count": 66,
   "outputs": [
    {
     "data": {
      "text/plain": "3156.0"
     },
     "execution_count": 66,
     "metadata": {},
     "output_type": "execute_result"
    }
   ],
   "source": [
    "updatedData[\"word_count\"].max()"
   ],
   "metadata": {
    "collapsed": false,
    "pycharm": {
     "name": "#%%\n"
    }
   }
  },
  {
   "cell_type": "code",
   "execution_count": 67,
   "outputs": [
    {
     "data": {
      "text/plain": "headline                                                               Did I Just Get Yanged?\ndate                                                                               2020-01-31\nnews_desk                                                                                OpEd\nword_count                                                                             3156.0\nHate Crimes                                                                               0.0\nDiscrimination                                                                            0.0\nRace and Ethnicity                                                                        0.0\nAtlanta Spa Shootings (2021)                                                              0.0\nMurders, Attempted Murders and Homicides                                                  0.0\nDemonstrations, Protests and Riots                                                        0.0\nMass Shootings                                                                            0.0\nQuarantine (Life and Culture)                                                             0.0\nAssaults                                                                                  0.0\nMinorities                                                                                0.0\nWorkplace Hazards and Violations                                                          0.0\nCoronavirus (2019-nCoV)                                                                   0.0\nurl                                         https://www.nytimes.com/2020/01/30/opinion/sun...\nName: 206, dtype: object"
     },
     "execution_count": 67,
     "metadata": {},
     "output_type": "execute_result"
    }
   ],
   "source": [
    "updatedData.loc[updatedData[\"word_count\"].idxmax()]"
   ],
   "metadata": {
    "collapsed": false,
    "pycharm": {
     "name": "#%%\n"
    }
   }
  },
  {
   "cell_type": "code",
   "execution_count": 68,
   "outputs": [
    {
     "data": {
      "text/plain": "1058.2057416267942"
     },
     "execution_count": 68,
     "metadata": {},
     "output_type": "execute_result"
    }
   ],
   "source": [
    "updatedData[\"word_count\"].mean()"
   ],
   "metadata": {
    "collapsed": false,
    "pycharm": {
     "name": "#%%\n"
    }
   }
  },
  {
   "cell_type": "markdown",
   "source": [
    "- Numbers of articles that have at least 1 tag on them"
   ],
   "metadata": {
    "collapsed": false,
    "pycharm": {
     "name": "#%% md\n"
    }
   }
  },
  {
   "cell_type": "code",
   "execution_count": 69,
   "outputs": [
    {
     "data": {
      "text/plain": "0       True\n1       True\n2      False\n3       True\n4       True\n       ...  \n204    False\n205     True\n206    False\n207    False\n208    False\nLength: 209, dtype: bool"
     },
     "execution_count": 69,
     "metadata": {},
     "output_type": "execute_result"
    }
   ],
   "source": [
    "zeroData = updatedData.iloc[::, range(4, 16)]\n",
    "zeroList = zeroData.any(axis='columns')\n",
    "zeroList"
   ],
   "metadata": {
    "collapsed": false,
    "pycharm": {
     "name": "#%%\n"
    }
   }
  },
  {
   "cell_type": "code",
   "execution_count": 70,
   "outputs": [
    {
     "data": {
      "text/plain": "True     167\nFalse     42\ndtype: int64"
     },
     "execution_count": 70,
     "metadata": {},
     "output_type": "execute_result"
    }
   ],
   "source": [
    "zeroList.value_counts()\n",
    "# 42 articles do not have any tags we mentioned"
   ],
   "metadata": {
    "collapsed": false,
    "pycharm": {
     "name": "#%%\n"
    }
   }
  },
  {
   "cell_type": "markdown",
   "source": [
    "- Group by date and delete the word_count"
   ],
   "metadata": {
    "collapsed": false,
    "pycharm": {
     "name": "#%% md\n"
    }
   }
  },
  {
   "cell_type": "code",
   "execution_count": 71,
   "outputs": [
    {
     "data": {
      "text/plain": "            Hate Crimes  Discrimination  Race and Ethnicity  \\\ndate                                                          \n2020-01-25          0.0             0.0                 0.0   \n2020-01-30          0.0             0.0                 0.0   \n2020-01-31          0.0             0.0                 0.0   \n2020-02-11          0.0             0.0                 0.0   \n2020-02-12          0.0             0.0                 0.0   \n...                 ...             ...                 ...   \n2021-07-14          2.0             1.0                 1.0   \n2021-07-15          0.0             0.0                 1.0   \n2021-07-18          1.0             1.0                 0.0   \n2021-07-19          0.0             0.0                 0.0   \n2021-07-21          0.0             2.0                 2.0   \n\n            Atlanta Spa Shootings (2021)  \\\ndate                                       \n2020-01-25                           0.0   \n2020-01-30                           0.0   \n2020-01-31                           0.0   \n2020-02-11                           0.0   \n2020-02-12                           0.0   \n...                                  ...   \n2021-07-14                           0.0   \n2021-07-15                           0.0   \n2021-07-18                           0.0   \n2021-07-19                           0.0   \n2021-07-21                           0.0   \n\n            Murders, Attempted Murders and Homicides  \\\ndate                                                   \n2020-01-25                                       0.0   \n2020-01-30                                       0.0   \n2020-01-31                                       0.0   \n2020-02-11                                       0.0   \n2020-02-12                                       0.0   \n...                                              ...   \n2021-07-14                                       0.0   \n2021-07-15                                       0.0   \n2021-07-18                                       0.0   \n2021-07-19                                       0.0   \n2021-07-21                                       0.0   \n\n            Demonstrations, Protests and Riots  Mass Shootings  \\\ndate                                                             \n2020-01-25                                 0.0             0.0   \n2020-01-30                                 0.0             0.0   \n2020-01-31                                 0.0             0.0   \n2020-02-11                                 0.0             0.0   \n2020-02-12                                 0.0             0.0   \n...                                        ...             ...   \n2021-07-14                                 0.0             0.0   \n2021-07-15                                 0.0             0.0   \n2021-07-18                                 0.0             0.0   \n2021-07-19                                 0.0             0.0   \n2021-07-21                                 0.0             0.0   \n\n            Quarantine (Life and Culture)  Assaults  Minorities  \\\ndate                                                              \n2020-01-25                            0.0       0.0         0.0   \n2020-01-30                            0.0       0.0         0.0   \n2020-01-31                            0.0       0.0         0.0   \n2020-02-11                            0.0       0.0         1.0   \n2020-02-12                            0.0       0.0         0.0   \n...                                   ...       ...         ...   \n2021-07-14                            0.0       1.0         0.0   \n2021-07-15                            0.0       0.0         0.0   \n2021-07-18                            0.0       1.0         0.0   \n2021-07-19                            0.0       0.0         0.0   \n2021-07-21                            0.0       0.0         0.0   \n\n            Workplace Hazards and Violations  Coronavirus (2019-nCoV)  \ndate                                                                   \n2020-01-25                               0.0                      0.0  \n2020-01-30                               0.0                      0.0  \n2020-01-31                               0.0                      0.0  \n2020-02-11                               0.0                      0.0  \n2020-02-12                               0.0                      0.0  \n...                                      ...                      ...  \n2021-07-14                               0.0                      1.0  \n2021-07-15                               0.0                      0.0  \n2021-07-18                               0.0                      0.0  \n2021-07-19                               0.0                      0.0  \n2021-07-21                               0.0                      0.0  \n\n[132 rows x 12 columns]",
      "text/html": "<div>\n<style scoped>\n    .dataframe tbody tr th:only-of-type {\n        vertical-align: middle;\n    }\n\n    .dataframe tbody tr th {\n        vertical-align: top;\n    }\n\n    .dataframe thead th {\n        text-align: right;\n    }\n</style>\n<table border=\"1\" class=\"dataframe\">\n  <thead>\n    <tr style=\"text-align: right;\">\n      <th></th>\n      <th>Hate Crimes</th>\n      <th>Discrimination</th>\n      <th>Race and Ethnicity</th>\n      <th>Atlanta Spa Shootings (2021)</th>\n      <th>Murders, Attempted Murders and Homicides</th>\n      <th>Demonstrations, Protests and Riots</th>\n      <th>Mass Shootings</th>\n      <th>Quarantine (Life and Culture)</th>\n      <th>Assaults</th>\n      <th>Minorities</th>\n      <th>Workplace Hazards and Violations</th>\n      <th>Coronavirus (2019-nCoV)</th>\n    </tr>\n    <tr>\n      <th>date</th>\n      <th></th>\n      <th></th>\n      <th></th>\n      <th></th>\n      <th></th>\n      <th></th>\n      <th></th>\n      <th></th>\n      <th></th>\n      <th></th>\n      <th></th>\n      <th></th>\n    </tr>\n  </thead>\n  <tbody>\n    <tr>\n      <th>2020-01-25</th>\n      <td>0.0</td>\n      <td>0.0</td>\n      <td>0.0</td>\n      <td>0.0</td>\n      <td>0.0</td>\n      <td>0.0</td>\n      <td>0.0</td>\n      <td>0.0</td>\n      <td>0.0</td>\n      <td>0.0</td>\n      <td>0.0</td>\n      <td>0.0</td>\n    </tr>\n    <tr>\n      <th>2020-01-30</th>\n      <td>0.0</td>\n      <td>0.0</td>\n      <td>0.0</td>\n      <td>0.0</td>\n      <td>0.0</td>\n      <td>0.0</td>\n      <td>0.0</td>\n      <td>0.0</td>\n      <td>0.0</td>\n      <td>0.0</td>\n      <td>0.0</td>\n      <td>0.0</td>\n    </tr>\n    <tr>\n      <th>2020-01-31</th>\n      <td>0.0</td>\n      <td>0.0</td>\n      <td>0.0</td>\n      <td>0.0</td>\n      <td>0.0</td>\n      <td>0.0</td>\n      <td>0.0</td>\n      <td>0.0</td>\n      <td>0.0</td>\n      <td>0.0</td>\n      <td>0.0</td>\n      <td>0.0</td>\n    </tr>\n    <tr>\n      <th>2020-02-11</th>\n      <td>0.0</td>\n      <td>0.0</td>\n      <td>0.0</td>\n      <td>0.0</td>\n      <td>0.0</td>\n      <td>0.0</td>\n      <td>0.0</td>\n      <td>0.0</td>\n      <td>0.0</td>\n      <td>1.0</td>\n      <td>0.0</td>\n      <td>0.0</td>\n    </tr>\n    <tr>\n      <th>2020-02-12</th>\n      <td>0.0</td>\n      <td>0.0</td>\n      <td>0.0</td>\n      <td>0.0</td>\n      <td>0.0</td>\n      <td>0.0</td>\n      <td>0.0</td>\n      <td>0.0</td>\n      <td>0.0</td>\n      <td>0.0</td>\n      <td>0.0</td>\n      <td>0.0</td>\n    </tr>\n    <tr>\n      <th>...</th>\n      <td>...</td>\n      <td>...</td>\n      <td>...</td>\n      <td>...</td>\n      <td>...</td>\n      <td>...</td>\n      <td>...</td>\n      <td>...</td>\n      <td>...</td>\n      <td>...</td>\n      <td>...</td>\n      <td>...</td>\n    </tr>\n    <tr>\n      <th>2021-07-14</th>\n      <td>2.0</td>\n      <td>1.0</td>\n      <td>1.0</td>\n      <td>0.0</td>\n      <td>0.0</td>\n      <td>0.0</td>\n      <td>0.0</td>\n      <td>0.0</td>\n      <td>1.0</td>\n      <td>0.0</td>\n      <td>0.0</td>\n      <td>1.0</td>\n    </tr>\n    <tr>\n      <th>2021-07-15</th>\n      <td>0.0</td>\n      <td>0.0</td>\n      <td>1.0</td>\n      <td>0.0</td>\n      <td>0.0</td>\n      <td>0.0</td>\n      <td>0.0</td>\n      <td>0.0</td>\n      <td>0.0</td>\n      <td>0.0</td>\n      <td>0.0</td>\n      <td>0.0</td>\n    </tr>\n    <tr>\n      <th>2021-07-18</th>\n      <td>1.0</td>\n      <td>1.0</td>\n      <td>0.0</td>\n      <td>0.0</td>\n      <td>0.0</td>\n      <td>0.0</td>\n      <td>0.0</td>\n      <td>0.0</td>\n      <td>1.0</td>\n      <td>0.0</td>\n      <td>0.0</td>\n      <td>0.0</td>\n    </tr>\n    <tr>\n      <th>2021-07-19</th>\n      <td>0.0</td>\n      <td>0.0</td>\n      <td>0.0</td>\n      <td>0.0</td>\n      <td>0.0</td>\n      <td>0.0</td>\n      <td>0.0</td>\n      <td>0.0</td>\n      <td>0.0</td>\n      <td>0.0</td>\n      <td>0.0</td>\n      <td>0.0</td>\n    </tr>\n    <tr>\n      <th>2021-07-21</th>\n      <td>0.0</td>\n      <td>2.0</td>\n      <td>2.0</td>\n      <td>0.0</td>\n      <td>0.0</td>\n      <td>0.0</td>\n      <td>0.0</td>\n      <td>0.0</td>\n      <td>0.0</td>\n      <td>0.0</td>\n      <td>0.0</td>\n      <td>0.0</td>\n    </tr>\n  </tbody>\n</table>\n<p>132 rows × 12 columns</p>\n</div>"
     },
     "execution_count": 71,
     "metadata": {},
     "output_type": "execute_result"
    }
   ],
   "source": [
    "dateData = updatedData.groupby([\"date\"]).sum().drop(\"word_count\", axis=1)\n",
    "dateData"
   ],
   "metadata": {
    "collapsed": false,
    "pycharm": {
     "name": "#%%\n"
    }
   }
  },
  {
   "cell_type": "markdown",
   "source": [
    "### Update the date aggregrated data with the US Covid Cases"
   ],
   "metadata": {
    "collapsed": false,
    "pycharm": {
     "name": "#%% md\n"
    }
   }
  },
  {
   "cell_type": "code",
   "execution_count": 72,
   "outputs": [
    {
     "data": {
      "text/plain": "           date     cases  deaths\n0    2020-01-21         1       0\n1    2020-01-22         1       0\n2    2020-01-23         1       0\n3    2020-01-24         2       0\n4    2020-01-25         3       0\n..          ...       ...     ...\n547  2021-07-21  34222629  609508\n548  2021-07-22  34286340  609870\n549  2021-07-23  34368845  610313\n550  2021-07-24  34391317  610414\n551  2021-07-25  34405954  610463\n\n[552 rows x 3 columns]",
      "text/html": "<div>\n<style scoped>\n    .dataframe tbody tr th:only-of-type {\n        vertical-align: middle;\n    }\n\n    .dataframe tbody tr th {\n        vertical-align: top;\n    }\n\n    .dataframe thead th {\n        text-align: right;\n    }\n</style>\n<table border=\"1\" class=\"dataframe\">\n  <thead>\n    <tr style=\"text-align: right;\">\n      <th></th>\n      <th>date</th>\n      <th>cases</th>\n      <th>deaths</th>\n    </tr>\n  </thead>\n  <tbody>\n    <tr>\n      <th>0</th>\n      <td>2020-01-21</td>\n      <td>1</td>\n      <td>0</td>\n    </tr>\n    <tr>\n      <th>1</th>\n      <td>2020-01-22</td>\n      <td>1</td>\n      <td>0</td>\n    </tr>\n    <tr>\n      <th>2</th>\n      <td>2020-01-23</td>\n      <td>1</td>\n      <td>0</td>\n    </tr>\n    <tr>\n      <th>3</th>\n      <td>2020-01-24</td>\n      <td>2</td>\n      <td>0</td>\n    </tr>\n    <tr>\n      <th>4</th>\n      <td>2020-01-25</td>\n      <td>3</td>\n      <td>0</td>\n    </tr>\n    <tr>\n      <th>...</th>\n      <td>...</td>\n      <td>...</td>\n      <td>...</td>\n    </tr>\n    <tr>\n      <th>547</th>\n      <td>2021-07-21</td>\n      <td>34222629</td>\n      <td>609508</td>\n    </tr>\n    <tr>\n      <th>548</th>\n      <td>2021-07-22</td>\n      <td>34286340</td>\n      <td>609870</td>\n    </tr>\n    <tr>\n      <th>549</th>\n      <td>2021-07-23</td>\n      <td>34368845</td>\n      <td>610313</td>\n    </tr>\n    <tr>\n      <th>550</th>\n      <td>2021-07-24</td>\n      <td>34391317</td>\n      <td>610414</td>\n    </tr>\n    <tr>\n      <th>551</th>\n      <td>2021-07-25</td>\n      <td>34405954</td>\n      <td>610463</td>\n    </tr>\n  </tbody>\n</table>\n<p>552 rows × 3 columns</p>\n</div>"
     },
     "execution_count": 72,
     "metadata": {},
     "output_type": "execute_result"
    }
   ],
   "source": [
    "covidData = pd.read_csv(\"us.csv\")\n",
    "covidData"
   ],
   "metadata": {
    "collapsed": false,
    "pycharm": {
     "name": "#%%\n"
    }
   }
  },
  {
   "cell_type": "code",
   "execution_count": 77,
   "outputs": [
    {
     "data": {
      "text/plain": "           date     cases  deaths  word_count  Hate Crimes  Discrimination  \\\n0    2020-01-25         3       0       927.0          0.0             0.0   \n1    2020-01-30         6       0       327.0          0.0             0.0   \n2    2020-01-31         7       0      3156.0          0.0             0.0   \n3    2020-02-11        13       0      1075.0          0.0             0.0   \n4    2020-02-12        14       0      1408.0          0.0             0.0   \n..          ...       ...     ...         ...          ...             ...   \n204  2021-07-15  33967961  608103      1480.0          0.0             0.0   \n205  2021-07-18  34042378  608580      1387.0          1.0             1.0   \n206  2021-07-19  34098206  608811      1516.0          0.0             0.0   \n207  2021-07-21  34222629  609508      2405.0          0.0             1.0   \n208  2021-07-21  34222629  609508      1161.0          0.0             1.0   \n\n     Race and Ethnicity  Atlanta Spa Shootings (2021)  \\\n0                   0.0                           0.0   \n1                   0.0                           0.0   \n2                   0.0                           0.0   \n3                   0.0                           0.0   \n4                   0.0                           0.0   \n..                  ...                           ...   \n204                 1.0                           0.0   \n205                 0.0                           0.0   \n206                 0.0                           0.0   \n207                 1.0                           0.0   \n208                 1.0                           0.0   \n\n     Murders, Attempted Murders and Homicides  \\\n0                                         0.0   \n1                                         0.0   \n2                                         0.0   \n3                                         0.0   \n4                                         0.0   \n..                                        ...   \n204                                       0.0   \n205                                       0.0   \n206                                       0.0   \n207                                       0.0   \n208                                       0.0   \n\n     Demonstrations, Protests and Riots  Mass Shootings  \\\n0                                   0.0             0.0   \n1                                   0.0             0.0   \n2                                   0.0             0.0   \n3                                   0.0             0.0   \n4                                   0.0             0.0   \n..                                  ...             ...   \n204                                 0.0             0.0   \n205                                 0.0             0.0   \n206                                 0.0             0.0   \n207                                 0.0             0.0   \n208                                 0.0             0.0   \n\n     Quarantine (Life and Culture)  Assaults  Minorities  \\\n0                              0.0       0.0         0.0   \n1                              0.0       0.0         0.0   \n2                              0.0       0.0         0.0   \n3                              0.0       0.0         1.0   \n4                              0.0       0.0         0.0   \n..                             ...       ...         ...   \n204                            0.0       0.0         0.0   \n205                            0.0       1.0         0.0   \n206                            0.0       0.0         0.0   \n207                            0.0       0.0         0.0   \n208                            0.0       0.0         0.0   \n\n     Workplace Hazards and Violations  Coronavirus (2019-nCoV)  \n0                                 0.0                      0.0  \n1                                 0.0                      0.0  \n2                                 0.0                      0.0  \n3                                 0.0                      0.0  \n4                                 0.0                      0.0  \n..                                ...                      ...  \n204                               0.0                      0.0  \n205                               0.0                      0.0  \n206                               0.0                      0.0  \n207                               0.0                      0.0  \n208                               0.0                      0.0  \n\n[209 rows x 16 columns]",
      "text/html": "<div>\n<style scoped>\n    .dataframe tbody tr th:only-of-type {\n        vertical-align: middle;\n    }\n\n    .dataframe tbody tr th {\n        vertical-align: top;\n    }\n\n    .dataframe thead th {\n        text-align: right;\n    }\n</style>\n<table border=\"1\" class=\"dataframe\">\n  <thead>\n    <tr style=\"text-align: right;\">\n      <th></th>\n      <th>date</th>\n      <th>cases</th>\n      <th>deaths</th>\n      <th>word_count</th>\n      <th>Hate Crimes</th>\n      <th>Discrimination</th>\n      <th>Race and Ethnicity</th>\n      <th>Atlanta Spa Shootings (2021)</th>\n      <th>Murders, Attempted Murders and Homicides</th>\n      <th>Demonstrations, Protests and Riots</th>\n      <th>Mass Shootings</th>\n      <th>Quarantine (Life and Culture)</th>\n      <th>Assaults</th>\n      <th>Minorities</th>\n      <th>Workplace Hazards and Violations</th>\n      <th>Coronavirus (2019-nCoV)</th>\n    </tr>\n  </thead>\n  <tbody>\n    <tr>\n      <th>0</th>\n      <td>2020-01-25</td>\n      <td>3</td>\n      <td>0</td>\n      <td>927.0</td>\n      <td>0.0</td>\n      <td>0.0</td>\n      <td>0.0</td>\n      <td>0.0</td>\n      <td>0.0</td>\n      <td>0.0</td>\n      <td>0.0</td>\n      <td>0.0</td>\n      <td>0.0</td>\n      <td>0.0</td>\n      <td>0.0</td>\n      <td>0.0</td>\n    </tr>\n    <tr>\n      <th>1</th>\n      <td>2020-01-30</td>\n      <td>6</td>\n      <td>0</td>\n      <td>327.0</td>\n      <td>0.0</td>\n      <td>0.0</td>\n      <td>0.0</td>\n      <td>0.0</td>\n      <td>0.0</td>\n      <td>0.0</td>\n      <td>0.0</td>\n      <td>0.0</td>\n      <td>0.0</td>\n      <td>0.0</td>\n      <td>0.0</td>\n      <td>0.0</td>\n    </tr>\n    <tr>\n      <th>2</th>\n      <td>2020-01-31</td>\n      <td>7</td>\n      <td>0</td>\n      <td>3156.0</td>\n      <td>0.0</td>\n      <td>0.0</td>\n      <td>0.0</td>\n      <td>0.0</td>\n      <td>0.0</td>\n      <td>0.0</td>\n      <td>0.0</td>\n      <td>0.0</td>\n      <td>0.0</td>\n      <td>0.0</td>\n      <td>0.0</td>\n      <td>0.0</td>\n    </tr>\n    <tr>\n      <th>3</th>\n      <td>2020-02-11</td>\n      <td>13</td>\n      <td>0</td>\n      <td>1075.0</td>\n      <td>0.0</td>\n      <td>0.0</td>\n      <td>0.0</td>\n      <td>0.0</td>\n      <td>0.0</td>\n      <td>0.0</td>\n      <td>0.0</td>\n      <td>0.0</td>\n      <td>0.0</td>\n      <td>1.0</td>\n      <td>0.0</td>\n      <td>0.0</td>\n    </tr>\n    <tr>\n      <th>4</th>\n      <td>2020-02-12</td>\n      <td>14</td>\n      <td>0</td>\n      <td>1408.0</td>\n      <td>0.0</td>\n      <td>0.0</td>\n      <td>0.0</td>\n      <td>0.0</td>\n      <td>0.0</td>\n      <td>0.0</td>\n      <td>0.0</td>\n      <td>0.0</td>\n      <td>0.0</td>\n      <td>0.0</td>\n      <td>0.0</td>\n      <td>0.0</td>\n    </tr>\n    <tr>\n      <th>...</th>\n      <td>...</td>\n      <td>...</td>\n      <td>...</td>\n      <td>...</td>\n      <td>...</td>\n      <td>...</td>\n      <td>...</td>\n      <td>...</td>\n      <td>...</td>\n      <td>...</td>\n      <td>...</td>\n      <td>...</td>\n      <td>...</td>\n      <td>...</td>\n      <td>...</td>\n      <td>...</td>\n    </tr>\n    <tr>\n      <th>204</th>\n      <td>2021-07-15</td>\n      <td>33967961</td>\n      <td>608103</td>\n      <td>1480.0</td>\n      <td>0.0</td>\n      <td>0.0</td>\n      <td>1.0</td>\n      <td>0.0</td>\n      <td>0.0</td>\n      <td>0.0</td>\n      <td>0.0</td>\n      <td>0.0</td>\n      <td>0.0</td>\n      <td>0.0</td>\n      <td>0.0</td>\n      <td>0.0</td>\n    </tr>\n    <tr>\n      <th>205</th>\n      <td>2021-07-18</td>\n      <td>34042378</td>\n      <td>608580</td>\n      <td>1387.0</td>\n      <td>1.0</td>\n      <td>1.0</td>\n      <td>0.0</td>\n      <td>0.0</td>\n      <td>0.0</td>\n      <td>0.0</td>\n      <td>0.0</td>\n      <td>0.0</td>\n      <td>1.0</td>\n      <td>0.0</td>\n      <td>0.0</td>\n      <td>0.0</td>\n    </tr>\n    <tr>\n      <th>206</th>\n      <td>2021-07-19</td>\n      <td>34098206</td>\n      <td>608811</td>\n      <td>1516.0</td>\n      <td>0.0</td>\n      <td>0.0</td>\n      <td>0.0</td>\n      <td>0.0</td>\n      <td>0.0</td>\n      <td>0.0</td>\n      <td>0.0</td>\n      <td>0.0</td>\n      <td>0.0</td>\n      <td>0.0</td>\n      <td>0.0</td>\n      <td>0.0</td>\n    </tr>\n    <tr>\n      <th>207</th>\n      <td>2021-07-21</td>\n      <td>34222629</td>\n      <td>609508</td>\n      <td>2405.0</td>\n      <td>0.0</td>\n      <td>1.0</td>\n      <td>1.0</td>\n      <td>0.0</td>\n      <td>0.0</td>\n      <td>0.0</td>\n      <td>0.0</td>\n      <td>0.0</td>\n      <td>0.0</td>\n      <td>0.0</td>\n      <td>0.0</td>\n      <td>0.0</td>\n    </tr>\n    <tr>\n      <th>208</th>\n      <td>2021-07-21</td>\n      <td>34222629</td>\n      <td>609508</td>\n      <td>1161.0</td>\n      <td>0.0</td>\n      <td>1.0</td>\n      <td>1.0</td>\n      <td>0.0</td>\n      <td>0.0</td>\n      <td>0.0</td>\n      <td>0.0</td>\n      <td>0.0</td>\n      <td>0.0</td>\n      <td>0.0</td>\n      <td>0.0</td>\n      <td>0.0</td>\n    </tr>\n  </tbody>\n</table>\n<p>209 rows × 16 columns</p>\n</div>"
     },
     "execution_count": 77,
     "metadata": {},
     "output_type": "execute_result"
    }
   ],
   "source": [
    "merged = pd.merge(covidData, updatedData, on=[\"date\"])\n",
    "merged.drop(['headline', 'news_desk', 'url'], axis=1)"
   ],
   "metadata": {
    "collapsed": false,
    "pycharm": {
     "name": "#%%\n"
    }
   }
  },
  {
   "cell_type": "code",
   "execution_count": 74,
   "outputs": [],
   "source": [],
   "metadata": {
    "collapsed": false,
    "pycharm": {
     "name": "#%%\n"
    }
   }
  }
 ],
 "metadata": {
  "kernelspec": {
   "display_name": "Python 3",
   "language": "python",
   "name": "python3"
  },
  "language_info": {
   "codemirror_mode": {
    "name": "ipython",
    "version": 2
   },
   "file_extension": ".py",
   "mimetype": "text/x-python",
   "name": "python",
   "nbconvert_exporter": "python",
   "pygments_lexer": "ipython2",
   "version": "2.7.6"
  }
 },
 "nbformat": 4,
 "nbformat_minor": 0
}